{
 "cells": [
  {
   "cell_type": "markdown",
   "id": "b8040c5c",
   "metadata": {},
   "source": [
    "# Animals Quiz"
   ]
  },
  {
   "cell_type": "code",
   "execution_count": 1,
   "id": "01f547c3",
   "metadata": {},
   "outputs": [
    {
     "name": "stdout",
     "output_type": "stream",
     "text": [
      "Guess the Animal\n",
      "Which bear lives at the North Pole?\n",
      " Type your answer: polar bear\n",
      "Correct Answer!\n",
      "Which is the fastest land animal? \n",
      " Type your answer:Cheetah\n",
      "Correct Answer!\n",
      "Which is the largest animal?\n",
      "Type your answer: elephant\n",
      "Sorry, wrong answer. Try again.\n",
      " Type your answer:mammoth\n",
      "Sorry, wrong answer. Try again.\n",
      " Type your answer:dinosaur\n",
      "The correct answer is  Blue Whale .\n",
      "Your Score is 2\n"
     ]
    }
   ],
   "source": [
    "def quiz(guess,answer):\n",
    "    global score \n",
    "    next_try = True\n",
    "    attempt = 0\n",
    "    while next_try and attempt < 3:\n",
    "        if guess.lower() == answer.lower():\n",
    "            print('Correct Answer!')\n",
    "            score+=1\n",
    "            next_try = False\n",
    "        else:\n",
    "            if attempt < 2:\n",
    "                guess = input('Sorry, wrong answer. Try again.\\n Type your answer:')\n",
    "            attempt = attempt + 1\n",
    "\n",
    "        if attempt == 3:\n",
    "            print('The correct answer is ',answer,'.')\n",
    "                   \n",
    "                \n",
    "score = 0\n",
    "print(\"Guess the Animal\")\n",
    "guess1 = input(\"Which bear lives at the North Pole?\\n Type your answer: \")\n",
    "quiz(guess1, \"polar bear\")\n",
    "guess2 = input(\"Which is the fastest land animal? \\n Type your answer:\")\n",
    "quiz(guess2, \"Cheetah\")\n",
    "guess3 = input(\"Which is the largest animal?\\nType your answer: \")\n",
    "quiz(guess3, \"Blue Whale\")\n",
    "print(\"Your Score is \"+ str(score))"
   ]
  },
  {
   "cell_type": "code",
   "execution_count": null,
   "id": "c7f82878",
   "metadata": {},
   "outputs": [],
   "source": []
  }
 ],
 "metadata": {
  "kernelspec": {
   "display_name": "Python 3",
   "language": "python",
   "name": "python3"
  },
  "language_info": {
   "codemirror_mode": {
    "name": "ipython",
    "version": 3
   },
   "file_extension": ".py",
   "mimetype": "text/x-python",
   "name": "python",
   "nbconvert_exporter": "python",
   "pygments_lexer": "ipython3",
   "version": "3.8.8"
  }
 },
 "nbformat": 4,
 "nbformat_minor": 5
}
