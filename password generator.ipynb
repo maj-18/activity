{
 "cells": [
  {
   "cell_type": "code",
   "execution_count": 15,
   "id": "1601dd4d",
   "metadata": {},
   "outputs": [
    {
     "name": "stdout",
     "output_type": "stream",
     "text": [
      "Password Generator\n",
      "Recommended password is  fullbear16@\n"
     ]
    }
   ],
   "source": [
    "import random\n",
    "adjt=['common','complex','different','encrypted','good','many','new','other','own','possible','secret','secure','strong','time','weak','great','little'\n",
    "      ,'sleepy','kind','full','economic','hard','special','sure','only','young','social','political']\n",
    "nou=['mother','father','baby','child','toddler','teenager','grandmother','student','teacher','man','lion','tiger','bear','dog','cat','alligator',\n",
    "     'cricket','bird','wolf','table','truck','book','pencil','iPad','computer']\n",
    "nums=list(range(0,100))\n",
    "punct=[',','.','<','>','?','/',':',';','{','}','[',']','+','-','_','=','!','@','#','$','%','^','&','*','(',')']\n",
    "\n",
    "adj=str(random.choice(adjt))\n",
    "noun=str(random.choice(nou))\n",
    "num=str(random.choice(nums))\n",
    "pun=str(random.choice(punct))\n",
    "password=adj+noun+num+pun\n",
    "print(\"Password Generator\")\n",
    "print(\"Recommended password is \",password)"
   ]
  },
  {
   "cell_type": "code",
   "execution_count": null,
   "id": "25569f03",
   "metadata": {},
   "outputs": [],
   "source": []
  },
  {
   "cell_type": "code",
   "execution_count": null,
   "id": "9fe177b0",
   "metadata": {},
   "outputs": [],
   "source": []
  },
  {
   "cell_type": "code",
   "execution_count": null,
   "id": "7d4f3dbc",
   "metadata": {},
   "outputs": [],
   "source": []
  }
 ],
 "metadata": {
  "kernelspec": {
   "display_name": "Python 3",
   "language": "python",
   "name": "python3"
  },
  "language_info": {
   "codemirror_mode": {
    "name": "ipython",
    "version": 3
   },
   "file_extension": ".py",
   "mimetype": "text/x-python",
   "name": "python",
   "nbconvert_exporter": "python",
   "pygments_lexer": "ipython3",
   "version": "3.8.8"
  }
 },
 "nbformat": 4,
 "nbformat_minor": 5
}
